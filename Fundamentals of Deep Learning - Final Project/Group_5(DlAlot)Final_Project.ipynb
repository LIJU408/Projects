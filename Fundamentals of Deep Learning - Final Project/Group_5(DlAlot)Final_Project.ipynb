{
  "nbformat": 4,
  "nbformat_minor": 5,
  "metadata": {
    "accelerator": "GPU",
    "colab": {
      "name": "Final Project.ipynb",
      "provenance": [],
      "collapsed_sections": [],
      "toc_visible": true
    },
    "kernelspec": {
      "display_name": "Python 3",
      "language": "python",
      "name": "python3"
    },
    "language_info": {
      "codemirror_mode": {
        "name": "ipython",
        "version": 3
      },
      "file_extension": ".py",
      "mimetype": "text/x-python",
      "name": "python",
      "nbconvert_exporter": "python",
      "pygments_lexer": "ipython3",
      "version": "3.7.0"
    }
  },
  "cells": [
    {
      "cell_type": "code",
      "metadata": {
        "id": "average-reflection"
      },
      "source": [
        "# Data preprocessing\n",
        "import numpy as np\n",
        "import pandas as pd \n",
        "import seaborn as sns\n",
        "import matplotlib.pyplot as plt\n",
        "import matplotlib.image as mpimg\n",
        "from matplotlib.offsetbox import OffsetImage, AnnotationBbox\n",
        "from glob import glob\n",
        "#import Image\n",
        "import os\n",
        "import random\n",
        "from PIL import Image\n",
        "#import cv2"
      ],
      "id": "average-reflection",
      "execution_count": 2,
      "outputs": []
    },
    {
      "cell_type": "code",
      "metadata": {
        "id": "faced-retailer"
      },
      "source": [
        "import keras\n",
        "from keras.models import Sequential, Model,load_model\n",
        "from keras.layers import Activation,Dense, Dropout, Flatten, Conv2D, MaxPooling2D,MaxPool2D,AveragePooling2D,GlobalMaxPooling2D\n",
        "from keras import backend as K\n",
        "from keras.wrappers.scikit_learn import KerasClassifier\n",
        "from keras.layers.normalization import BatchNormalization\n",
        "from keras.utils.np_utils import to_categorical # convert to one-hot-encoding\n",
        "from keras import regularizers\n",
        "from keras.optimizers import Adam, SGD\n",
        "from keras.preprocessing.image import ImageDataGenerator,array_to_img\n",
        "from keras.callbacks import ReduceLROnPlateau, EarlyStopping,ModelCheckpoint\n",
        "from keras.metrics import PrecisionAtRecall,Recall, Precision\n",
        "#Model Analysis\n",
        "from sklearn.metrics import confusion_matrix"
      ],
      "id": "faced-retailer",
      "execution_count": 3,
      "outputs": []
    },
    {
      "cell_type": "code",
      "metadata": {
        "id": "minute-minority"
      },
      "source": [
        "import tensorflow as tf\n",
        "from tensorflow import keras\n",
        "from tensorflow.keras import layers\n",
        "from tensorflow.keras import models\n",
        "from keras.optimizers import SGD\n",
        "from keras import backend as K\n",
        "from sklearn import metrics\n",
        "#from keras import metrics\n",
        "#from keras import keras_metrics"
      ],
      "id": "minute-minority",
      "execution_count": 4,
      "outputs": []
    },
    {
      "cell_type": "code",
      "metadata": {
        "colab": {
          "base_uri": "https://localhost:8080/"
        },
        "id": "foreign-progress",
        "outputId": "7a78cb27-4de3-4b18-be91-403185b4e784"
      },
      "source": [
        "from google.colab import drive\n",
        "drive.mount('/content/drive')"
      ],
      "id": "foreign-progress",
      "execution_count": 9,
      "outputs": [
        {
          "output_type": "stream",
          "text": [
            "Mounted at /content/drive\n"
          ],
          "name": "stdout"
        }
      ]
    },
    {
      "cell_type": "code",
      "metadata": {
        "colab": {
          "base_uri": "https://localhost:8080/"
        },
        "id": "k6_E43Q6laam",
        "outputId": "0537909a-2253-44e5-dd9b-f32e24492ba1"
      },
      "source": [
        "Image.open('/content/drive/MyDrive/COVID-19_Radiography_Dataset/COVID/COVID-1.png')\n",
        "im = Image.open('/content/drive/MyDrive/COVID-19_Radiography_Dataset/COVID/COVID-1.png')\n",
        "print(im.size)"
      ],
      "id": "k6_E43Q6laam",
      "execution_count": null,
      "outputs": [
        {
          "output_type": "stream",
          "text": [
            "(299, 299)\n"
          ],
          "name": "stdout"
        }
      ]
    },
    {
      "cell_type": "code",
      "metadata": {
        "id": "western-cuisine"
      },
      "source": [
        "path = '/content/drive/MyDrive/COVID-19_Radiography_Dataset'\n",
        "\n",
        "diag_code_dict = {\n",
        "    'COVID': 0,\n",
        "    'Lung_Opacity': 1,\n",
        "    'Normal': 2,\n",
        "    'Viral Pneumonia': 3}\n",
        "\n",
        "diag_title_dict = {\n",
        "    'COVID': 'Covid-19',\n",
        "    'Lung_Opacity': 'Lung Opacity',\n",
        "    'Normal': 'Healthy',\n",
        "    'Viral Pneumonia': 'Viral Pneumonia'}\n",
        "\n",
        "imageid_path_dict = {os.path.splitext(os.path.basename(x))[0]: x for x in glob(os.path.join(path, '*','*.png'))}\n",
        "\n",
        "covidData = pd.DataFrame.from_dict(imageid_path_dict, orient = 'index').reset_index()\n",
        "covidData.columns = ['image_id','path']\n",
        "classes = covidData.image_id.str.split('-').str[0]\n",
        "covidData['classes'] = classes"
      ],
      "id": "western-cuisine",
      "execution_count": 10,
      "outputs": []
    },
    {
      "cell_type": "code",
      "metadata": {
        "colab": {
          "base_uri": "https://localhost:8080/",
          "height": 204
        },
        "id": "pretty-pasta",
        "outputId": "5aefc719-c912-4b6b-fc01-8621c2d003f2"
      },
      "source": [
        "covidData.head()"
      ],
      "id": "pretty-pasta",
      "execution_count": 11,
      "outputs": [
        {
          "output_type": "execute_result",
          "data": {
            "text/html": [
              "<div>\n",
              "<style scoped>\n",
              "    .dataframe tbody tr th:only-of-type {\n",
              "        vertical-align: middle;\n",
              "    }\n",
              "\n",
              "    .dataframe tbody tr th {\n",
              "        vertical-align: top;\n",
              "    }\n",
              "\n",
              "    .dataframe thead th {\n",
              "        text-align: right;\n",
              "    }\n",
              "</style>\n",
              "<table border=\"1\" class=\"dataframe\">\n",
              "  <thead>\n",
              "    <tr style=\"text-align: right;\">\n",
              "      <th></th>\n",
              "      <th>image_id</th>\n",
              "      <th>path</th>\n",
              "      <th>classes</th>\n",
              "    </tr>\n",
              "  </thead>\n",
              "  <tbody>\n",
              "    <tr>\n",
              "      <th>0</th>\n",
              "      <td>COVID-3356</td>\n",
              "      <td>/content/drive/MyDrive/COVID-19_Radiography_Da...</td>\n",
              "      <td>COVID</td>\n",
              "    </tr>\n",
              "    <tr>\n",
              "      <th>1</th>\n",
              "      <td>COVID-3339</td>\n",
              "      <td>/content/drive/MyDrive/COVID-19_Radiography_Da...</td>\n",
              "      <td>COVID</td>\n",
              "    </tr>\n",
              "    <tr>\n",
              "      <th>2</th>\n",
              "      <td>COVID-3353</td>\n",
              "      <td>/content/drive/MyDrive/COVID-19_Radiography_Da...</td>\n",
              "      <td>COVID</td>\n",
              "    </tr>\n",
              "    <tr>\n",
              "      <th>3</th>\n",
              "      <td>COVID-3346</td>\n",
              "      <td>/content/drive/MyDrive/COVID-19_Radiography_Da...</td>\n",
              "      <td>COVID</td>\n",
              "    </tr>\n",
              "    <tr>\n",
              "      <th>4</th>\n",
              "      <td>COVID-3344</td>\n",
              "      <td>/content/drive/MyDrive/COVID-19_Radiography_Da...</td>\n",
              "      <td>COVID</td>\n",
              "    </tr>\n",
              "  </tbody>\n",
              "</table>\n",
              "</div>"
            ],
            "text/plain": [
              "     image_id                                               path classes\n",
              "0  COVID-3356  /content/drive/MyDrive/COVID-19_Radiography_Da...   COVID\n",
              "1  COVID-3339  /content/drive/MyDrive/COVID-19_Radiography_Da...   COVID\n",
              "2  COVID-3353  /content/drive/MyDrive/COVID-19_Radiography_Da...   COVID\n",
              "3  COVID-3346  /content/drive/MyDrive/COVID-19_Radiography_Da...   COVID\n",
              "4  COVID-3344  /content/drive/MyDrive/COVID-19_Radiography_Da...   COVID"
            ]
          },
          "metadata": {
            "tags": []
          },
          "execution_count": 11
        }
      ]
    },
    {
      "cell_type": "code",
      "metadata": {
        "colab": {
          "base_uri": "https://localhost:8080/"
        },
        "id": "U7FJ9_um5VK6",
        "outputId": "9c09c202-5749-4374-d176-11731296cb6a"
      },
      "source": [
        "covidData['classes'].value_counts()"
      ],
      "id": "U7FJ9_um5VK6",
      "execution_count": 12,
      "outputs": [
        {
          "output_type": "execute_result",
          "data": {
            "text/plain": [
              "Normal             10199\n",
              "Lung_Opacity        6012\n",
              "COVID               3617\n",
              "Viral Pneumonia     1345\n",
              "Name: classes, dtype: int64"
            ]
          },
          "metadata": {
            "tags": []
          },
          "execution_count": 12
        }
      ]
    },
    {
      "cell_type": "code",
      "metadata": {
        "colab": {
          "base_uri": "https://localhost:8080/"
        },
        "id": "7jqpUOrizhgy",
        "outputId": "28de9b38-c322-4a5e-c075-a1963f1d9215"
      },
      "source": [
        "covidData['classes'].value_counts()/len(covidData)"
      ],
      "id": "7jqpUOrizhgy",
      "execution_count": 13,
      "outputs": [
        {
          "output_type": "execute_result",
          "data": {
            "text/plain": [
              "Normal             0.481698\n",
              "Lung_Opacity       0.283947\n",
              "COVID              0.170831\n",
              "Viral Pneumonia    0.063524\n",
              "Name: classes, dtype: float64"
            ]
          },
          "metadata": {
            "tags": []
          },
          "execution_count": 13
        }
      ]
    },
    {
      "cell_type": "markdown",
      "metadata": {
        "id": "YpOl1laO7C5e"
      },
      "source": [
        "# New Section"
      ],
      "id": "YpOl1laO7C5e"
    },
    {
      "cell_type": "code",
      "metadata": {
        "colab": {
          "base_uri": "https://localhost:8080/"
        },
        "id": "equal-resort",
        "outputId": "3740f589-5356-4d93-8b02-b37c5b78d1ca"
      },
      "source": [
        "#add the path general where the classes subpath are allocated\n",
        "path = '/content/drive/MyDrive/COVID-19_Radiography_Dataset'\n",
        "\n",
        "classes=[\"COVID\", \"Lung_Opacity\", \"Normal\", \"Viral Pneumonia\"]\n",
        "#classes=[\"COVID\",  \"Normal\"]\n",
        "num_classes = len(classes)\n",
        "batch_size=32\n",
        "\n",
        "train_datagen = ImageDataGenerator(rescale=1./255,\n",
        "                                   rotation_range=20,\n",
        "                                   width_shift_range=0.2,\n",
        "                                   height_shift_range=0.2,\n",
        "                                   horizontal_flip=True,\n",
        "                                   validation_split=0.9)\n",
        "\n",
        "test_datagen = ImageDataGenerator(rescale=1./255, validation_split=0.9)\n",
        "\n",
        "\n",
        "#load the images to training\n",
        "train_gen = train_datagen.flow_from_directory(directory=path, \n",
        "                                              target_size=(299, 299),\n",
        "                                              class_mode='categorical',\n",
        "                                              subset='training',\n",
        "                                              shuffle=True, classes=classes,\n",
        "                                              batch_size=batch_size, \n",
        "                                              color_mode=\"grayscale\")\n",
        "#load the images to test\n",
        "test_gen = test_datagen.flow_from_directory(directory=path, \n",
        "                                              target_size=(299, 299),\n",
        "                                              class_mode='categorical',\n",
        "                                              subset='validation',\n",
        "                                              shuffle=False, classes=classes,\n",
        "                                              batch_size=batch_size, \n",
        "                                              color_mode=\"grayscale\")"
      ],
      "id": "equal-resort",
      "execution_count": 14,
      "outputs": [
        {
          "output_type": "stream",
          "text": [
            "Found 2119 images belonging to 4 classes.\n",
            "Found 19054 images belonging to 4 classes.\n"
          ],
          "name": "stdout"
        }
      ]
    },
    {
      "cell_type": "markdown",
      "metadata": {
        "id": "DTGZjtUFhImv"
      },
      "source": [
        "\n",
        "\n",
        "```\n",
        "# This is formatted as code\n",
        "```\n",
        "\n",
        "## Model 1(CNN1)\n"
      ],
      "id": "DTGZjtUFhImv"
    },
    {
      "cell_type": "code",
      "metadata": {
        "id": "VEPiF_snr6iO"
      },
      "source": [
        "model = models.Sequential()\n",
        "model.add(keras.layers.ZeroPadding2D(padding=(2, 2), input_shape = (299,299,1)))\n",
        "model.add(layers.Conv2D(16,(7,7), activation = 'relu', padding = \"valid\"))\n",
        "model.add(layers.SpatialDropout2D(0.2))\n",
        "model.add(layers.MaxPooling2D((4,4), strides=(2, 2), padding='valid'))\n",
        "######################################################\n",
        "model.add(keras.layers.ZeroPadding2D(padding=(2, 2)))\n",
        "model.add(layers.Conv2D(32,(5,5), activation = 'relu'))\n",
        "model.add(layers.SpatialDropout2D(0.2))\n",
        "model.add(layers.MaxPooling2D((2,2),strides=(2, 2), padding='valid'))\n",
        "######################################################\n",
        "model.add(keras.layers.ZeroPadding2D(padding=(2, 2)))\n",
        "model.add(layers.Conv2D(64,(3,3), activation = 'relu'))\n",
        "model.add(layers.SpatialDropout2D(0.2))\n",
        "model.add(layers.MaxPooling2D((2,2),strides=(2, 2), padding='valid'))\n",
        "######################################################\n",
        "model.add(layers.Flatten())\n",
        "model.add(layers.Dense(512, activation = 'relu'))\n",
        "model.add(Dropout(0.2))\n",
        "model.add(layers.Dense(128, activation = 'relu'))\n",
        "model.add(Dropout(0.2))\n",
        "model.add(layers.Dense(64, activation = 'relu'))\n",
        "model.add(Dropout(0.2))\n",
        "model.add(layers.Dense(4, activation = 'softmax'))"
      ],
      "id": "VEPiF_snr6iO",
      "execution_count": 21,
      "outputs": []
    },
    {
      "cell_type": "code",
      "metadata": {
        "colab": {
          "base_uri": "https://localhost:8080/"
        },
        "id": "nxczWKqz4wTx",
        "outputId": "c4307b40-ed76-467f-d95f-a4f43c820aa2"
      },
      "source": [
        "model.summary()"
      ],
      "id": "nxczWKqz4wTx",
      "execution_count": null,
      "outputs": [
        {
          "output_type": "stream",
          "text": [
            "Model: \"sequential_2\"\n",
            "_________________________________________________________________\n",
            "Layer (type)                 Output Shape              Param #   \n",
            "=================================================================\n",
            "zero_padding2d_9 (ZeroPaddin (None, 303, 303, 1)       0         \n",
            "_________________________________________________________________\n",
            "conv2d_9 (Conv2D)            (None, 297, 297, 16)      800       \n",
            "_________________________________________________________________\n",
            "spatial_dropout2d_9 (Spatial (None, 297, 297, 16)      0         \n",
            "_________________________________________________________________\n",
            "max_pooling2d_9 (MaxPooling2 (None, 147, 147, 16)      0         \n",
            "_________________________________________________________________\n",
            "zero_padding2d_10 (ZeroPaddi (None, 151, 151, 16)      0         \n",
            "_________________________________________________________________\n",
            "conv2d_10 (Conv2D)           (None, 147, 147, 32)      12832     \n",
            "_________________________________________________________________\n",
            "spatial_dropout2d_10 (Spatia (None, 147, 147, 32)      0         \n",
            "_________________________________________________________________\n",
            "max_pooling2d_10 (MaxPooling (None, 73, 73, 32)        0         \n",
            "_________________________________________________________________\n",
            "zero_padding2d_11 (ZeroPaddi (None, 77, 77, 32)        0         \n",
            "_________________________________________________________________\n",
            "conv2d_11 (Conv2D)           (None, 75, 75, 64)        18496     \n",
            "_________________________________________________________________\n",
            "spatial_dropout2d_11 (Spatia (None, 75, 75, 64)        0         \n",
            "_________________________________________________________________\n",
            "max_pooling2d_11 (MaxPooling (None, 37, 37, 64)        0         \n",
            "_________________________________________________________________\n",
            "flatten_2 (Flatten)          (None, 87616)             0         \n",
            "_________________________________________________________________\n",
            "dense_8 (Dense)              (None, 512)               44859904  \n",
            "_________________________________________________________________\n",
            "dropout_2 (Dropout)          (None, 512)               0         \n",
            "_________________________________________________________________\n",
            "dense_9 (Dense)              (None, 128)               65664     \n",
            "_________________________________________________________________\n",
            "dropout_3 (Dropout)          (None, 128)               0         \n",
            "_________________________________________________________________\n",
            "dense_10 (Dense)             (None, 64)                8256      \n",
            "_________________________________________________________________\n",
            "dropout_4 (Dropout)          (None, 64)                0         \n",
            "_________________________________________________________________\n",
            "dense_11 (Dense)             (None, 4)                 260       \n",
            "=================================================================\n",
            "Total params: 44,966,212\n",
            "Trainable params: 44,966,212\n",
            "Non-trainable params: 0\n",
            "_________________________________________________________________\n"
          ],
          "name": "stdout"
        }
      ]
    },
    {
      "cell_type": "code",
      "metadata": {
        "id": "incident-chapter"
      },
      "source": [
        "sgd = SGD(lr=0.01, decay=1e-6, momentum=0.9, nesterov=True)\n",
        "model.compile(loss='categorical_crossentropy', metrics=['accuracy',keras.metrics.Precision(), keras.metrics.Recall()], optimizer=sgd)"
      ],
      "id": "incident-chapter",
      "execution_count": 22,
      "outputs": []
    },
    {
      "cell_type": "code",
      "metadata": {
        "colab": {
          "base_uri": "https://localhost:8080/"
        },
        "id": "thirty-armstrong",
        "outputId": "9608b8c6-5dc2-4cf8-fbee-40cf55024450"
      },
      "source": [
        "history = model.fit(train_gen,epochs=50, batch_size=32, verbose=2)"
      ],
      "id": "thirty-armstrong",
      "execution_count": 23,
      "outputs": [
        {
          "output_type": "stream",
          "text": [
            "Epoch 1/50\n",
            "67/67 - 1089s - loss: 1.2463 - accuracy: 0.4658 - precision_2: 0.4933 - recall_2: 0.0868\n",
            "Epoch 2/50\n",
            "67/67 - 21s - loss: 1.1925 - accuracy: 0.4814 - precision_2: 0.4757 - recall_2: 0.1109\n",
            "Epoch 3/50\n",
            "67/67 - 21s - loss: 1.1900 - accuracy: 0.4814 - precision_2: 0.4788 - recall_2: 0.1175\n",
            "Epoch 4/50\n",
            "67/67 - 21s - loss: 1.1917 - accuracy: 0.4814 - precision_2: 0.4009 - recall_2: 0.0420\n",
            "Epoch 5/50\n",
            "67/67 - 21s - loss: 1.1891 - accuracy: 0.4814 - precision_2: 0.4622 - recall_2: 0.1213\n",
            "Epoch 6/50\n",
            "67/67 - 21s - loss: 1.1890 - accuracy: 0.4814 - precision_2: 0.5039 - recall_2: 0.0920\n",
            "Epoch 7/50\n",
            "67/67 - 21s - loss: 1.1789 - accuracy: 0.4814 - precision_2: 0.5526 - recall_2: 0.1166\n",
            "Epoch 8/50\n",
            "67/67 - 21s - loss: 1.1711 - accuracy: 0.4818 - precision_2: 0.5353 - recall_2: 0.1288\n",
            "Epoch 9/50\n",
            "67/67 - 21s - loss: 1.1660 - accuracy: 0.4804 - precision_2: 0.5856 - recall_2: 0.1954\n",
            "Epoch 10/50\n",
            "67/67 - 21s - loss: 1.1516 - accuracy: 0.4795 - precision_2: 0.5916 - recall_2: 0.1723\n",
            "Epoch 11/50\n",
            "67/67 - 21s - loss: 1.1611 - accuracy: 0.4724 - precision_2: 0.5673 - recall_2: 0.1671\n",
            "Epoch 12/50\n",
            "67/67 - 20s - loss: 1.1549 - accuracy: 0.4752 - precision_2: 0.5848 - recall_2: 0.1855\n",
            "Epoch 13/50\n",
            "67/67 - 20s - loss: 1.1385 - accuracy: 0.4799 - precision_2: 0.6126 - recall_2: 0.1888\n",
            "Epoch 14/50\n",
            "67/67 - 20s - loss: 1.1344 - accuracy: 0.4866 - precision_2: 0.5771 - recall_2: 0.1977\n",
            "Epoch 15/50\n",
            "67/67 - 20s - loss: 1.1152 - accuracy: 0.4979 - precision_2: 0.5924 - recall_2: 0.2133\n",
            "Epoch 16/50\n",
            "67/67 - 20s - loss: 1.1724 - accuracy: 0.4748 - precision_2: 0.5586 - recall_2: 0.1463\n",
            "Epoch 17/50\n",
            "67/67 - 20s - loss: 1.1391 - accuracy: 0.4884 - precision_2: 0.6063 - recall_2: 0.1911\n",
            "Epoch 18/50\n",
            "67/67 - 20s - loss: 1.1298 - accuracy: 0.5035 - precision_2: 0.5992 - recall_2: 0.2039\n",
            "Epoch 19/50\n",
            "67/67 - 20s - loss: 1.1042 - accuracy: 0.5219 - precision_2: 0.6326 - recall_2: 0.2421\n",
            "Epoch 20/50\n",
            "67/67 - 20s - loss: 1.1130 - accuracy: 0.5045 - precision_2: 0.5901 - recall_2: 0.2256\n",
            "Epoch 21/50\n",
            "67/67 - 20s - loss: 1.0963 - accuracy: 0.5172 - precision_2: 0.6131 - recall_2: 0.2303\n",
            "Epoch 22/50\n",
            "67/67 - 20s - loss: 1.1129 - accuracy: 0.5073 - precision_2: 0.6034 - recall_2: 0.2039\n",
            "Epoch 23/50\n",
            "67/67 - 20s - loss: 1.0816 - accuracy: 0.5205 - precision_2: 0.6365 - recall_2: 0.2586\n",
            "Epoch 24/50\n",
            "67/67 - 20s - loss: 1.0876 - accuracy: 0.5139 - precision_2: 0.6420 - recall_2: 0.2412\n",
            "Epoch 25/50\n",
            "67/67 - 20s - loss: 1.0878 - accuracy: 0.5172 - precision_2: 0.6323 - recall_2: 0.2695\n",
            "Epoch 26/50\n",
            "67/67 - 20s - loss: 1.0736 - accuracy: 0.5205 - precision_2: 0.6017 - recall_2: 0.2931\n",
            "Epoch 27/50\n",
            "67/67 - 20s - loss: 1.0719 - accuracy: 0.5328 - precision_2: 0.6325 - recall_2: 0.2850\n",
            "Epoch 28/50\n",
            "67/67 - 20s - loss: 1.0597 - accuracy: 0.5300 - precision_2: 0.6389 - recall_2: 0.2789\n",
            "Epoch 29/50\n",
            "67/67 - 20s - loss: 1.0395 - accuracy: 0.5219 - precision_2: 0.6444 - recall_2: 0.2916\n",
            "Epoch 30/50\n",
            "67/67 - 20s - loss: 1.0740 - accuracy: 0.5267 - precision_2: 0.5988 - recall_2: 0.2888\n",
            "Epoch 31/50\n",
            "67/67 - 20s - loss: 1.1217 - accuracy: 0.4941 - precision_2: 0.6053 - recall_2: 0.2577\n",
            "Epoch 32/50\n",
            "67/67 - 20s - loss: 1.0694 - accuracy: 0.5252 - precision_2: 0.6294 - recall_2: 0.2685\n",
            "Epoch 33/50\n",
            "67/67 - 20s - loss: 1.0462 - accuracy: 0.5323 - precision_2: 0.6275 - recall_2: 0.3171\n",
            "Epoch 34/50\n",
            "67/67 - 20s - loss: 1.0395 - accuracy: 0.5389 - precision_2: 0.6334 - recall_2: 0.3327\n",
            "Epoch 35/50\n",
            "67/67 - 20s - loss: 1.0183 - accuracy: 0.5418 - precision_2: 0.6362 - recall_2: 0.3384\n",
            "Epoch 36/50\n",
            "67/67 - 21s - loss: 1.0229 - accuracy: 0.5578 - precision_2: 0.6364 - recall_2: 0.3412\n",
            "Epoch 37/50\n",
            "67/67 - 21s - loss: 0.9993 - accuracy: 0.5559 - precision_2: 0.6507 - recall_2: 0.3903\n",
            "Epoch 38/50\n",
            "67/67 - 21s - loss: 1.0194 - accuracy: 0.5385 - precision_2: 0.6503 - recall_2: 0.3370\n",
            "Epoch 39/50\n",
            "67/67 - 20s - loss: 1.0174 - accuracy: 0.5432 - precision_2: 0.6421 - recall_2: 0.3487\n",
            "Epoch 40/50\n",
            "67/67 - 20s - loss: 0.9904 - accuracy: 0.5625 - precision_2: 0.6543 - recall_2: 0.3823\n",
            "Epoch 41/50\n",
            "67/67 - 20s - loss: 0.9891 - accuracy: 0.5564 - precision_2: 0.6597 - recall_2: 0.3860\n",
            "Epoch 42/50\n",
            "67/67 - 20s - loss: 0.9970 - accuracy: 0.5479 - precision_2: 0.6575 - recall_2: 0.3506\n",
            "Epoch 43/50\n",
            "67/67 - 20s - loss: 0.9666 - accuracy: 0.5748 - precision_2: 0.6642 - recall_2: 0.3827\n",
            "Epoch 44/50\n",
            "67/67 - 20s - loss: 0.9910 - accuracy: 0.5531 - precision_2: 0.6602 - recall_2: 0.3521\n",
            "Epoch 45/50\n",
            "67/67 - 20s - loss: 0.9931 - accuracy: 0.5583 - precision_2: 0.6589 - recall_2: 0.3719\n",
            "Epoch 46/50\n",
            "67/67 - 20s - loss: 0.9949 - accuracy: 0.5493 - precision_2: 0.6580 - recall_2: 0.3478\n",
            "Epoch 47/50\n",
            "67/67 - 20s - loss: 0.9770 - accuracy: 0.5654 - precision_2: 0.6512 - recall_2: 0.3700\n",
            "Epoch 48/50\n",
            "67/67 - 20s - loss: 0.9652 - accuracy: 0.5739 - precision_2: 0.6624 - recall_2: 0.4186\n",
            "Epoch 49/50\n",
            "67/67 - 21s - loss: 0.9676 - accuracy: 0.5720 - precision_2: 0.6773 - recall_2: 0.4120\n",
            "Epoch 50/50\n",
            "67/67 - 20s - loss: 0.9550 - accuracy: 0.5739 - precision_2: 0.6706 - recall_2: 0.4247\n"
          ],
          "name": "stdout"
        }
      ]
    },
    {
      "cell_type": "code",
      "metadata": {
        "colab": {
          "base_uri": "https://localhost:8080/"
        },
        "id": "neural-prince",
        "outputId": "52073248-0b85-4d9e-841f-7da48d5855ba"
      },
      "source": [
        "train_results = pd.DataFrame(history.history)\n",
        "train_results.iloc[49]"
      ],
      "id": "neural-prince",
      "execution_count": 25,
      "outputs": [
        {
          "output_type": "execute_result",
          "data": {
            "text/plain": [
              "loss           0.955011\n",
              "accuracy       0.573856\n",
              "precision_2    0.670641\n",
              "recall_2       0.424729\n",
              "Name: 49, dtype: float64"
            ]
          },
          "metadata": {
            "tags": []
          },
          "execution_count": 25
        }
      ]
    },
    {
      "cell_type": "code",
      "metadata": {
        "colab": {
          "base_uri": "https://localhost:8080/",
          "height": 297
        },
        "id": "RjJKLg-vtIvI",
        "outputId": "e6cff0ef-c025-46fe-cc94-85275c05ec83"
      },
      "source": [
        "train_results.describe()"
      ],
      "id": "RjJKLg-vtIvI",
      "execution_count": 26,
      "outputs": [
        {
          "output_type": "execute_result",
          "data": {
            "text/html": [
              "<div>\n",
              "<style scoped>\n",
              "    .dataframe tbody tr th:only-of-type {\n",
              "        vertical-align: middle;\n",
              "    }\n",
              "\n",
              "    .dataframe tbody tr th {\n",
              "        vertical-align: top;\n",
              "    }\n",
              "\n",
              "    .dataframe thead th {\n",
              "        text-align: right;\n",
              "    }\n",
              "</style>\n",
              "<table border=\"1\" class=\"dataframe\">\n",
              "  <thead>\n",
              "    <tr style=\"text-align: right;\">\n",
              "      <th></th>\n",
              "      <th>loss</th>\n",
              "      <th>accuracy</th>\n",
              "      <th>precision_2</th>\n",
              "      <th>recall_2</th>\n",
              "    </tr>\n",
              "  </thead>\n",
              "  <tbody>\n",
              "    <tr>\n",
              "      <th>count</th>\n",
              "      <td>50.000000</td>\n",
              "      <td>50.000000</td>\n",
              "      <td>50.000000</td>\n",
              "      <td>50.000000</td>\n",
              "    </tr>\n",
              "    <tr>\n",
              "      <th>mean</th>\n",
              "      <td>1.083097</td>\n",
              "      <td>0.518480</td>\n",
              "      <td>0.604597</td>\n",
              "      <td>0.258320</td>\n",
              "    </tr>\n",
              "    <tr>\n",
              "      <th>std</th>\n",
              "      <td>0.077599</td>\n",
              "      <td>0.033256</td>\n",
              "      <td>0.061110</td>\n",
              "      <td>0.100558</td>\n",
              "    </tr>\n",
              "    <tr>\n",
              "      <th>min</th>\n",
              "      <td>0.955011</td>\n",
              "      <td>0.465786</td>\n",
              "      <td>0.400901</td>\n",
              "      <td>0.042001</td>\n",
              "    </tr>\n",
              "    <tr>\n",
              "      <th>25%</th>\n",
              "      <td>1.017658</td>\n",
              "      <td>0.481477</td>\n",
              "      <td>0.586710</td>\n",
              "      <td>0.189358</td>\n",
              "    </tr>\n",
              "    <tr>\n",
              "      <th>50%</th>\n",
              "      <td>1.084600</td>\n",
              "      <td>0.520529</td>\n",
              "      <td>0.628438</td>\n",
              "      <td>0.263568</td>\n",
              "    </tr>\n",
              "    <tr>\n",
              "      <th>75%</th>\n",
              "      <td>1.148498</td>\n",
              "      <td>0.546720</td>\n",
              "      <td>0.648810</td>\n",
              "      <td>0.346154</td>\n",
              "    </tr>\n",
              "    <tr>\n",
              "      <th>max</th>\n",
              "      <td>1.246266</td>\n",
              "      <td>0.574799</td>\n",
              "      <td>0.677269</td>\n",
              "      <td>0.424729</td>\n",
              "    </tr>\n",
              "  </tbody>\n",
              "</table>\n",
              "</div>"
            ],
            "text/plain": [
              "            loss   accuracy  precision_2   recall_2\n",
              "count  50.000000  50.000000    50.000000  50.000000\n",
              "mean    1.083097   0.518480     0.604597   0.258320\n",
              "std     0.077599   0.033256     0.061110   0.100558\n",
              "min     0.955011   0.465786     0.400901   0.042001\n",
              "25%     1.017658   0.481477     0.586710   0.189358\n",
              "50%     1.084600   0.520529     0.628438   0.263568\n",
              "75%     1.148498   0.546720     0.648810   0.346154\n",
              "max     1.246266   0.574799     0.677269   0.424729"
            ]
          },
          "metadata": {
            "tags": []
          },
          "execution_count": 26
        }
      ]
    },
    {
      "cell_type": "code",
      "metadata": {
        "colab": {
          "base_uri": "https://localhost:8080/",
          "height": 312
        },
        "id": "VNhSwUusr_EF",
        "outputId": "09afa586-8740-467c-9eae-96475412b530"
      },
      "source": [
        "train_results.plot()\n",
        "plt.xlabel('Epochs')\n",
        "plt.ylabel('Value')\n",
        "plt.title('CNN 1 train process over 50 epochs')"
      ],
      "id": "VNhSwUusr_EF",
      "execution_count": 28,
      "outputs": [
        {
          "output_type": "execute_result",
          "data": {
            "text/plain": [
              "Text(0.5, 1.0, 'CNN 1 train process over 50 epochs')"
            ]
          },
          "metadata": {
            "tags": []
          },
          "execution_count": 28
        },
        {
          "output_type": "display_data",
          "data": {
            "image/png": "[encoded data removed]",
            "text/plain": [
              "<Figure size 432x288 with 1 Axes>"
            ]
          },
          "metadata": {
            "tags": [],
            "needs_background": "light"
          }
        }
      ]
    },
    {
      "cell_type": "code",
      "metadata": {
        "colab": {
          "base_uri": "https://localhost:8080/"
        },
        "id": "8Cn-jlRvsXpz",
        "outputId": "d3e5e39d-c4d3-4a44-8e67-28fc15f82d70"
      },
      "source": [
        "model_perf = model.evaluate(test_gen)\n",
        "model_perf"
      ],
      "id": "8Cn-jlRvsXpz",
      "execution_count": null,
      "outputs": [
        {
          "output_type": "stream",
          "text": [
            "596/596 [==============================] - 60s 100ms/step - loss: 0.8125 - accuracy: 0.6520 - precision_1: 0.7275 - recall_1: 0.5585\n"
          ],
          "name": "stdout"
        },
        {
          "output_type": "execute_result",
          "data": {
            "text/plain": [
              "[0.8125213384628296,\n",
              " 0.6520415544509888,\n",
              " 0.7274591326713562,\n",
              " 0.5585178732872009]"
            ]
          },
          "metadata": {
            "tags": []
          },
          "execution_count": 29
        }
      ]
    },
    {
      "cell_type": "code",
      "metadata": {
        "colab": {
          "base_uri": "https://localhost:8080/",
          "height": 425
        },
        "id": "WnMaoRQfAkRC",
        "outputId": "ebbffa2d-6637-4513-8455-5de55fa50f8a"
      },
      "source": [
        "y_pred = model.predict(test_gen)\n",
        "\n",
        "predictions = np.array(list(map(lambda x: np.argmax(x), y_pred)))\n",
        "y_true=test_gen.classes\n",
        "CMatrix = pd.DataFrame(confusion_matrix(y_true, predictions), columns=classes, index =classes)\n",
        "len(y_true)\n",
        "plt.figure(figsize=(12, 6))\n",
        "ax = sns.heatmap(CMatrix, annot = True, fmt = 'g' ,vmin = 0, vmax = 250,cmap = 'Blues')\n",
        "ax.set_xlabel('Predicted',fontsize = 14,weight = 'bold')\n",
        "ax.set_xticklabels(ax.get_xticklabels(),rotation =0);\n",
        "\n",
        "ax.set_ylabel('Actual',fontsize = 14,weight = 'bold') \n",
        "ax.set_yticklabels(ax.get_yticklabels(),rotation =0);\n",
        "ax.set_title('Confusion Matrix - Test Set(CNN1)',fontsize = 16,weight = 'bold',pad=20);\n",
        "\n",
        "keras.backend.clear_session()"
      ],
      "id": "WnMaoRQfAkRC",
      "execution_count": null,
      "outputs": [
        {
          "output_type": "display_data",
          "data": {
            "image/png": "[encoded data removed]",
            "text/plain": [
              "<Figure size 864x432 with 2 Axes>"
            ]
          },
          "metadata": {
            "tags": [],
            "needs_background": "light"
          }
        }
      ]
    },
    {
      "cell_type": "markdown",
      "metadata": {
        "id": "PZ-Sq7ZmhUno"
      },
      "source": [
        "## Model 2(CNN2)"
      ],
      "id": "PZ-Sq7ZmhUno"
    },
    {
      "cell_type": "code",
      "metadata": {
        "id": "mCGelrkmhXOs"
      },
      "source": [
        "model2 = models.Sequential()\n",
        "model2.add(keras.layers.ZeroPadding2D(padding=(2, 2), input_shape = (299,299,1)))\n",
        "model2.add(layers.Conv2D(16,(7,7), activation = 'relu', padding = \"valid\"))\n",
        "model2.add(layers.SpatialDropout2D(0.2))\n",
        "model2.add(layers.MaxPooling2D((4,4), strides=(2, 2), padding='valid'))\n",
        "#######################################################\n",
        "model2.add(keras.layers.ZeroPadding2D(padding=(2, 2)))\n",
        "model2.add(layers.Conv2D(16,(7,7), activation = 'relu', padding = \"valid\"))\n",
        "model2.add(layers.SpatialDropout2D(0.2))\n",
        "model2.add(layers.MaxPooling2D((4,4), strides=(2, 2), padding='valid'))\n",
        "#######################################################\n",
        "model2.add(keras.layers.ZeroPadding2D(padding=(2, 2)))\n",
        "model2.add(layers.Conv2D(32,(5,5), activation = 'relu'))\n",
        "model2.add(layers.SpatialDropout2D(0.2))\n",
        "model2.add(layers.MaxPooling2D((2,2),strides=(2, 2), padding='valid'))\n",
        "#######################################################\n",
        "model2.add(keras.layers.ZeroPadding2D(padding=(2, 2)))\n",
        "model2.add(layers.Conv2D(32,(5,5), activation = 'relu'))\n",
        "model2.add(layers.SpatialDropout2D(0.2))\n",
        "model2.add(layers.MaxPooling2D((2,2),strides=(2, 2), padding='valid'))\n",
        "#######################################################\n",
        "model2.add(keras.layers.ZeroPadding2D(padding=(2, 2)))\n",
        "model2.add(layers.Conv2D(64,(3,3), activation = 'relu'))\n",
        "model2.add(layers.SpatialDropout2D(0.2))\n",
        "model2.add(layers.MaxPooling2D((2,2),strides=(2, 2), padding='valid'))\n",
        "#######################################################\n",
        "model2.add(keras.layers.ZeroPadding2D(padding=(2, 2)))\n",
        "model2.add(layers.Conv2D(64,(3,3), activation = 'relu'))\n",
        "model2.add(layers.SpatialDropout2D(0.2))\n",
        "model2.add(layers.MaxPooling2D((2,2),strides=(2, 2), padding='valid'))\n",
        "#######################################################\n",
        "model2.add(layers.Flatten())\n",
        "model2.add(layers.Dense(512, activation = 'relu'))\n",
        "model2.add(Dropout(0.2))\n",
        "model2.add(layers.Dense(128, activation = 'relu'))\n",
        "model2.add(Dropout(0.2))\n",
        "model2.add(layers.Dense(64, activation = 'relu'))\n",
        "model2.add(Dropout(0.2))\n",
        "model2.add(layers.Dense(4, activation = 'softmax'))"
      ],
      "id": "mCGelrkmhXOs",
      "execution_count": 5,
      "outputs": []
    },
    {
      "cell_type": "code",
      "metadata": {
        "id": "OqATp9VShxZO"
      },
      "source": [
        "sgd = SGD(lr=0.01, decay=1e-6, momentum=0.9, nesterov=True)\n",
        "model2.compile(optimizer=sgd,\n",
        "               loss='categorical_crossentropy', \n",
        "               metrics=['accuracy',keras.metrics.Precision(), keras.metrics.Recall()])"
      ],
      "id": "OqATp9VShxZO",
      "execution_count": 15,
      "outputs": []
    },
    {
      "cell_type": "code",
      "metadata": {
        "colab": {
          "base_uri": "https://localhost:8080/"
        },
        "id": "yPpJ0Xy7bAM0",
        "outputId": "9296b508-1bb6-4bce-f17e-c874a0f82b4d"
      },
      "source": [
        "model2.summary()"
      ],
      "id": "yPpJ0Xy7bAM0",
      "execution_count": 16,
      "outputs": [
        {
          "output_type": "stream",
          "text": [
            "Model: \"sequential\"\n",
            "_________________________________________________________________\n",
            "Layer (type)                 Output Shape              Param #   \n",
            "=================================================================\n",
            "zero_padding2d (ZeroPadding2 (None, 303, 303, 1)       0         \n",
            "_________________________________________________________________\n",
            "conv2d (Conv2D)              (None, 297, 297, 16)      800       \n",
            "_________________________________________________________________\n",
            "spatial_dropout2d (SpatialDr (None, 297, 297, 16)      0         \n",
            "_________________________________________________________________\n",
            "max_pooling2d (MaxPooling2D) (None, 147, 147, 16)      0         \n",
            "_________________________________________________________________\n",
            "zero_padding2d_1 (ZeroPaddin (None, 151, 151, 16)      0         \n",
            "_________________________________________________________________\n",
            "conv2d_1 (Conv2D)            (None, 145, 145, 16)      12560     \n",
            "_________________________________________________________________\n",
            "spatial_dropout2d_1 (Spatial (None, 145, 145, 16)      0         \n",
            "_________________________________________________________________\n",
            "max_pooling2d_1 (MaxPooling2 (None, 71, 71, 16)        0         \n",
            "_________________________________________________________________\n",
            "zero_padding2d_2 (ZeroPaddin (None, 75, 75, 16)        0         \n",
            "_________________________________________________________________\n",
            "conv2d_2 (Conv2D)            (None, 71, 71, 32)        12832     \n",
            "_________________________________________________________________\n",
            "spatial_dropout2d_2 (Spatial (None, 71, 71, 32)        0         \n",
            "_________________________________________________________________\n",
            "max_pooling2d_2 (MaxPooling2 (None, 35, 35, 32)        0         \n",
            "_________________________________________________________________\n",
            "zero_padding2d_3 (ZeroPaddin (None, 39, 39, 32)        0         \n",
            "_________________________________________________________________\n",
            "conv2d_3 (Conv2D)            (None, 35, 35, 32)        25632     \n",
            "_________________________________________________________________\n",
            "spatial_dropout2d_3 (Spatial (None, 35, 35, 32)        0         \n",
            "_________________________________________________________________\n",
            "max_pooling2d_3 (MaxPooling2 (None, 17, 17, 32)        0         \n",
            "_________________________________________________________________\n",
            "zero_padding2d_4 (ZeroPaddin (None, 21, 21, 32)        0         \n",
            "_________________________________________________________________\n",
            "conv2d_4 (Conv2D)            (None, 19, 19, 64)        18496     \n",
            "_________________________________________________________________\n",
            "spatial_dropout2d_4 (Spatial (None, 19, 19, 64)        0         \n",
            "_________________________________________________________________\n",
            "max_pooling2d_4 (MaxPooling2 (None, 9, 9, 64)          0         \n",
            "_________________________________________________________________\n",
            "zero_padding2d_5 (ZeroPaddin (None, 13, 13, 64)        0         \n",
            "_________________________________________________________________\n",
            "conv2d_5 (Conv2D)            (None, 11, 11, 64)        36928     \n",
            "_________________________________________________________________\n",
            "spatial_dropout2d_5 (Spatial (None, 11, 11, 64)        0         \n",
            "_________________________________________________________________\n",
            "max_pooling2d_5 (MaxPooling2 (None, 5, 5, 64)          0         \n",
            "_________________________________________________________________\n",
            "flatten (Flatten)            (None, 1600)              0         \n",
            "_________________________________________________________________\n",
            "dense (Dense)                (None, 512)               819712    \n",
            "_________________________________________________________________\n",
            "dropout (Dropout)            (None, 512)               0         \n",
            "_________________________________________________________________\n",
            "dense_1 (Dense)              (None, 128)               65664     \n",
            "_________________________________________________________________\n",
            "dropout_1 (Dropout)          (None, 128)               0         \n",
            "_________________________________________________________________\n",
            "dense_2 (Dense)              (None, 64)                8256      \n",
            "_________________________________________________________________\n",
            "dropout_2 (Dropout)          (None, 64)                0         \n",
            "_________________________________________________________________\n",
            "dense_3 (Dense)              (None, 4)                 260       \n",
            "=================================================================\n",
            "Total params: 1,001,140\n",
            "Trainable params: 1,001,140\n",
            "Non-trainable params: 0\n",
            "_________________________________________________________________\n"
          ],
          "name": "stdout"
        }
      ]
    },
    {
      "cell_type": "code",
      "metadata": {
        "colab": {
          "base_uri": "https://localhost:8080/"
        },
        "id": "JBCAxFxAiETD",
        "outputId": "44e7eb3f-f24d-4cb7-8982-f483cd477fd1"
      },
      "source": [
        "history2 = model2.fit(train_gen,epochs=50, batch_size=32, verbose=2)"
      ],
      "id": "JBCAxFxAiETD",
      "execution_count": 17,
      "outputs": [
        {
          "output_type": "stream",
          "text": [
            "Epoch 1/50\n",
            "67/67 - 718s - loss: 1.2225 - accuracy: 0.4672 - precision_1: 0.4984 - recall_1: 0.1439\n",
            "Epoch 2/50\n",
            "67/67 - 20s - loss: 1.1928 - accuracy: 0.4766 - precision_1: 0.4934 - recall_1: 0.1067\n",
            "Epoch 3/50\n",
            "67/67 - 21s - loss: 1.1896 - accuracy: 0.4814 - precision_1: 0.4960 - recall_1: 0.1161\n",
            "Epoch 4/50\n",
            "67/67 - 21s - loss: 1.1888 - accuracy: 0.4814 - precision_1: 0.5082 - recall_1: 0.1175\n",
            "Epoch 5/50\n",
            "67/67 - 20s - loss: 1.1826 - accuracy: 0.4809 - precision_1: 0.5461 - recall_1: 0.1845\n",
            "Epoch 6/50\n",
            "67/67 - 21s - loss: 1.1908 - accuracy: 0.4814 - precision_1: 0.5000 - recall_1: 0.1732\n",
            "Epoch 7/50\n",
            "67/67 - 21s - loss: 1.1835 - accuracy: 0.4814 - precision_1: 0.5526 - recall_1: 0.1265\n",
            "Epoch 8/50\n",
            "67/67 - 21s - loss: 1.1883 - accuracy: 0.4814 - precision_1: 0.5180 - recall_1: 0.1156\n",
            "Epoch 9/50\n",
            "67/67 - 21s - loss: 1.1770 - accuracy: 0.4809 - precision_1: 0.5402 - recall_1: 0.1586\n",
            "Epoch 10/50\n",
            "67/67 - 20s - loss: 1.1606 - accuracy: 0.4908 - precision_1: 0.5897 - recall_1: 0.1845\n",
            "Epoch 11/50\n",
            "67/67 - 20s - loss: 1.1175 - accuracy: 0.5337 - precision_1: 0.6115 - recall_1: 0.2614\n",
            "Epoch 12/50\n",
            "67/67 - 21s - loss: 1.0973 - accuracy: 0.5300 - precision_1: 0.6375 - recall_1: 0.3020\n",
            "Epoch 13/50\n",
            "67/67 - 21s - loss: 1.0465 - accuracy: 0.5606 - precision_1: 0.6776 - recall_1: 0.3620\n",
            "Epoch 14/50\n",
            "67/67 - 21s - loss: 1.0484 - accuracy: 0.5597 - precision_1: 0.6833 - recall_1: 0.3554\n",
            "Epoch 15/50\n",
            "67/67 - 21s - loss: 1.0423 - accuracy: 0.5672 - precision_1: 0.6790 - recall_1: 0.3563\n",
            "Epoch 16/50\n",
            "67/67 - 20s - loss: 1.0367 - accuracy: 0.5772 - precision_1: 0.6703 - recall_1: 0.3742\n",
            "Epoch 17/50\n",
            "67/67 - 20s - loss: 1.0410 - accuracy: 0.5621 - precision_1: 0.6621 - recall_1: 0.3634\n",
            "Epoch 18/50\n",
            "67/67 - 21s - loss: 1.0221 - accuracy: 0.5772 - precision_1: 0.6825 - recall_1: 0.3936\n",
            "Epoch 19/50\n",
            "67/67 - 20s - loss: 0.9914 - accuracy: 0.5875 - precision_1: 0.6889 - recall_1: 0.4379\n",
            "Epoch 20/50\n",
            "67/67 - 21s - loss: 0.9680 - accuracy: 0.5993 - precision_1: 0.7030 - recall_1: 0.4568\n",
            "Epoch 21/50\n",
            "67/67 - 20s - loss: 1.0072 - accuracy: 0.5743 - precision_1: 0.6750 - recall_1: 0.4205\n",
            "Epoch 22/50\n",
            "67/67 - 20s - loss: 1.0135 - accuracy: 0.5757 - precision_1: 0.6716 - recall_1: 0.4054\n",
            "Epoch 23/50\n",
            "67/67 - 21s - loss: 1.0078 - accuracy: 0.5819 - precision_1: 0.6774 - recall_1: 0.4271\n",
            "Epoch 24/50\n",
            "67/67 - 20s - loss: 0.9976 - accuracy: 0.5805 - precision_1: 0.6804 - recall_1: 0.4200\n",
            "Epoch 25/50\n",
            "67/67 - 21s - loss: 1.0062 - accuracy: 0.5767 - precision_1: 0.6667 - recall_1: 0.4115\n",
            "Epoch 26/50\n",
            "67/67 - 21s - loss: 1.0022 - accuracy: 0.5668 - precision_1: 0.6806 - recall_1: 0.3931\n",
            "Epoch 27/50\n",
            "67/67 - 21s - loss: 1.0048 - accuracy: 0.5772 - precision_1: 0.6774 - recall_1: 0.3874\n",
            "Epoch 28/50\n",
            "67/67 - 20s - loss: 0.9785 - accuracy: 0.5838 - precision_1: 0.6826 - recall_1: 0.4252\n",
            "Epoch 29/50\n",
            "67/67 - 20s - loss: 0.9917 - accuracy: 0.5767 - precision_1: 0.6826 - recall_1: 0.3988\n",
            "Epoch 30/50\n",
            "67/67 - 21s - loss: 0.9827 - accuracy: 0.5739 - precision_1: 0.6782 - recall_1: 0.3978\n",
            "Epoch 31/50\n",
            "67/67 - 20s - loss: 0.9751 - accuracy: 0.5890 - precision_1: 0.6851 - recall_1: 0.4219\n",
            "Epoch 32/50\n",
            "67/67 - 20s - loss: 0.9622 - accuracy: 0.5857 - precision_1: 0.6741 - recall_1: 0.4276\n",
            "Epoch 33/50\n",
            "67/67 - 21s - loss: 1.0061 - accuracy: 0.5729 - precision_1: 0.6582 - recall_1: 0.4035\n",
            "Epoch 34/50\n",
            "67/67 - 20s - loss: 1.0142 - accuracy: 0.5672 - precision_1: 0.6635 - recall_1: 0.3908\n",
            "Epoch 35/50\n",
            "67/67 - 20s - loss: 0.9828 - accuracy: 0.5908 - precision_1: 0.6780 - recall_1: 0.4125\n",
            "Epoch 36/50\n",
            "67/67 - 20s - loss: 0.9919 - accuracy: 0.5715 - precision_1: 0.6713 - recall_1: 0.3893\n",
            "Epoch 37/50\n",
            "67/67 - 20s - loss: 1.0027 - accuracy: 0.5790 - precision_1: 0.6877 - recall_1: 0.3761\n",
            "Epoch 38/50\n",
            "67/67 - 21s - loss: 0.9699 - accuracy: 0.5932 - precision_1: 0.6933 - recall_1: 0.4299\n",
            "Epoch 39/50\n",
            "67/67 - 21s - loss: 0.9889 - accuracy: 0.5724 - precision_1: 0.6846 - recall_1: 0.3974\n",
            "Epoch 40/50\n",
            "67/67 - 20s - loss: 1.0019 - accuracy: 0.5743 - precision_1: 0.6733 - recall_1: 0.3988\n",
            "Epoch 41/50\n",
            "67/67 - 20s - loss: 0.9800 - accuracy: 0.5819 - precision_1: 0.6629 - recall_1: 0.4167\n",
            "Epoch 42/50\n",
            "67/67 - 20s - loss: 0.9937 - accuracy: 0.5767 - precision_1: 0.6880 - recall_1: 0.4110\n",
            "Epoch 43/50\n",
            "67/67 - 21s - loss: 0.9580 - accuracy: 0.5894 - precision_1: 0.6562 - recall_1: 0.4441\n",
            "Epoch 44/50\n",
            "67/67 - 21s - loss: 0.9660 - accuracy: 0.5913 - precision_1: 0.6815 - recall_1: 0.4422\n",
            "Epoch 45/50\n",
            "67/67 - 21s - loss: 0.9988 - accuracy: 0.5654 - precision_1: 0.6733 - recall_1: 0.3988\n",
            "Epoch 46/50\n",
            "67/67 - 21s - loss: 0.9584 - accuracy: 0.5894 - precision_1: 0.6789 - recall_1: 0.4261\n",
            "Epoch 47/50\n",
            "67/67 - 20s - loss: 0.9846 - accuracy: 0.5809 - precision_1: 0.6745 - recall_1: 0.4186\n",
            "Epoch 48/50\n",
            "67/67 - 20s - loss: 0.9667 - accuracy: 0.5894 - precision_1: 0.6730 - recall_1: 0.4332\n",
            "Epoch 49/50\n",
            "67/67 - 21s - loss: 0.9695 - accuracy: 0.5852 - precision_1: 0.6894 - recall_1: 0.4493\n",
            "Epoch 50/50\n",
            "67/67 - 20s - loss: 0.9478 - accuracy: 0.6102 - precision_1: 0.6829 - recall_1: 0.4644\n"
          ],
          "name": "stdout"
        }
      ]
    },
    {
      "cell_type": "code",
      "metadata": {
        "colab": {
          "base_uri": "https://localhost:8080/"
        },
        "id": "LuYtEsv8iHE5",
        "outputId": "adbac2e4-4833-424f-939a-56a886b7812d"
      },
      "source": [
        "train_results_2 = pd.DataFrame(history2.history)\n",
        "train_results_2.iloc[49]"
      ],
      "id": "LuYtEsv8iHE5",
      "execution_count": 18,
      "outputs": [
        {
          "output_type": "execute_result",
          "data": {
            "text/plain": [
              "loss           0.947795\n",
              "accuracy       0.610193\n",
              "precision_1    0.682859\n",
              "recall_1       0.464370\n",
              "Name: 49, dtype: float64"
            ]
          },
          "metadata": {
            "tags": []
          },
          "execution_count": 18
        }
      ]
    },
    {
      "cell_type": "code",
      "metadata": {
        "colab": {
          "base_uri": "https://localhost:8080/",
          "height": 297
        },
        "id": "JD0hZz6ziNs5",
        "outputId": "955e1fde-e4f7-4c47-e346-e37c0d3cf8db"
      },
      "source": [
        "train_results_2.describe()"
      ],
      "id": "JD0hZz6ziNs5",
      "execution_count": 19,
      "outputs": [
        {
          "output_type": "execute_result",
          "data": {
            "text/html": [
              "<div>\n",
              "<style scoped>\n",
              "    .dataframe tbody tr th:only-of-type {\n",
              "        vertical-align: middle;\n",
              "    }\n",
              "\n",
              "    .dataframe tbody tr th {\n",
              "        vertical-align: top;\n",
              "    }\n",
              "\n",
              "    .dataframe thead th {\n",
              "        text-align: right;\n",
              "    }\n",
              "</style>\n",
              "<table border=\"1\" class=\"dataframe\">\n",
              "  <thead>\n",
              "    <tr style=\"text-align: right;\">\n",
              "      <th></th>\n",
              "      <th>loss</th>\n",
              "      <th>accuracy</th>\n",
              "      <th>precision_1</th>\n",
              "      <th>recall_1</th>\n",
              "    </tr>\n",
              "  </thead>\n",
              "  <tbody>\n",
              "    <tr>\n",
              "      <th>count</th>\n",
              "      <td>50.000000</td>\n",
              "      <td>50.000000</td>\n",
              "      <td>50.000000</td>\n",
              "      <td>50.000000</td>\n",
              "    </tr>\n",
              "    <tr>\n",
              "      <th>mean</th>\n",
              "      <td>1.037990</td>\n",
              "      <td>0.557622</td>\n",
              "      <td>0.644800</td>\n",
              "      <td>0.350580</td>\n",
              "    </tr>\n",
              "    <tr>\n",
              "      <th>std</th>\n",
              "      <td>0.082229</td>\n",
              "      <td>0.041314</td>\n",
              "      <td>0.063878</td>\n",
              "      <td>0.111348</td>\n",
              "    </tr>\n",
              "    <tr>\n",
              "      <th>min</th>\n",
              "      <td>0.947795</td>\n",
              "      <td>0.467202</td>\n",
              "      <td>0.493450</td>\n",
              "      <td>0.106654</td>\n",
              "    </tr>\n",
              "    <tr>\n",
              "      <th>25%</th>\n",
              "      <td>0.982723</td>\n",
              "      <td>0.559934</td>\n",
              "      <td>0.656704</td>\n",
              "      <td>0.355592</td>\n",
              "    </tr>\n",
              "    <tr>\n",
              "      <th>50%</th>\n",
              "      <td>1.003792</td>\n",
              "      <td>0.575035</td>\n",
              "      <td>0.674316</td>\n",
              "      <td>0.398301</td>\n",
              "    </tr>\n",
              "    <tr>\n",
              "      <th>75%</th>\n",
              "      <td>1.047954</td>\n",
              "      <td>0.583294</td>\n",
              "      <td>0.682229</td>\n",
              "      <td>0.421543</td>\n",
              "    </tr>\n",
              "    <tr>\n",
              "      <th>max</th>\n",
              "      <td>1.222518</td>\n",
              "      <td>0.610193</td>\n",
              "      <td>0.702977</td>\n",
              "      <td>0.464370</td>\n",
              "    </tr>\n",
              "  </tbody>\n",
              "</table>\n",
              "</div>"
            ],
            "text/plain": [
              "            loss   accuracy  precision_1   recall_1\n",
              "count  50.000000  50.000000    50.000000  50.000000\n",
              "mean    1.037990   0.557622     0.644800   0.350580\n",
              "std     0.082229   0.041314     0.063878   0.111348\n",
              "min     0.947795   0.467202     0.493450   0.106654\n",
              "25%     0.982723   0.559934     0.656704   0.355592\n",
              "50%     1.003792   0.575035     0.674316   0.398301\n",
              "75%     1.047954   0.583294     0.682229   0.421543\n",
              "max     1.222518   0.610193     0.702977   0.464370"
            ]
          },
          "metadata": {
            "tags": []
          },
          "execution_count": 19
        }
      ]
    },
    {
      "cell_type": "code",
      "metadata": {
        "colab": {
          "base_uri": "https://localhost:8080/",
          "height": 312
        },
        "id": "ySTmcalyiTQg",
        "outputId": "99e96513-9412-4872-f995-4d13a894687d"
      },
      "source": [
        "train_results_2.plot()\n",
        "plt.xlabel('Epochs')\n",
        "plt.ylabel('Value')\n",
        "plt.title('CNN 2 train process over 50 epochs')"
      ],
      "id": "ySTmcalyiTQg",
      "execution_count": 20,
      "outputs": [
        {
          "output_type": "execute_result",
          "data": {
            "text/plain": [
              "Text(0.5, 1.0, 'CNN 2 train process over 50 epochs')"
            ]
          },
          "metadata": {
            "tags": []
          },
          "execution_count": 20
        },
        {
          "output_type": "display_data",
          "data": {
            "image/png": "[encoded data removed]",
            "text/plain": [
              "<Figure size 432x288 with 1 Axes>"
            ]
          },
          "metadata": {
            "tags": [],
            "needs_background": "light"
          }
        }
      ]
    },
    {
      "cell_type": "code",
      "metadata": {
        "id": "cRK7HTqEiWk6",
        "colab": {
          "base_uri": "https://localhost:8080/"
        },
        "outputId": "87462615-1c7e-4f8c-cbe8-b9642cc9a306"
      },
      "source": [
        "model_perf2 = model2.evaluate(test_gen)\n",
        "model_perf2"
      ],
      "id": "cRK7HTqEiWk6",
      "execution_count": null,
      "outputs": [
        {
          "output_type": "stream",
          "text": [
            "596/596 [==============================] - 60s 100ms/step - loss: 0.7405 - accuracy: 0.7100 - precision: 0.7768 - recall: 0.6168\n"
          ],
          "name": "stdout"
        },
        {
          "output_type": "execute_result",
          "data": {
            "text/plain": [
              "[0.7405380010604858,\n",
              " 0.7100346088409424,\n",
              " 0.7768010497093201,\n",
              " 0.6168258786201477]"
            ]
          },
          "metadata": {
            "tags": []
          },
          "execution_count": 44
        }
      ]
    },
    {
      "cell_type": "code",
      "metadata": {
        "id": "Tin1HFZWifhe",
        "colab": {
          "base_uri": "https://localhost:8080/",
          "height": 425
        },
        "outputId": "1c92474c-1943-4ba6-a44b-b53aa6b84d4f"
      },
      "source": [
        "y_pred2 = model2.predict(test_gen)\n",
        "\n",
        "predictions2 = np.array(list(map(lambda x: np.argmax(x), y_pred2)))\n",
        "y_true=test_gen.classes\n",
        "CMatrix2 = pd.DataFrame(confusion_matrix(y_true, predictions2), columns=classes, index =classes)\n",
        "len(y_true)\n",
        "plt.figure(figsize=(12, 6))\n",
        "ax2 = sns.heatmap(CMatrix2, annot = True, fmt = 'g' ,vmin = 0, vmax = 250,cmap = 'Blues')\n",
        "ax2.set_xlabel('Predicted',fontsize = 14,weight = 'bold')\n",
        "ax2.set_xticklabels(ax.get_xticklabels(),rotation =0);\n",
        "\n",
        "ax2.set_ylabel('Actual',fontsize = 14,weight = 'bold') \n",
        "ax2.set_yticklabels(ax.get_yticklabels(),rotation =0);\n",
        "ax2.set_title('Confusion Matrix - Test Set(CNN2)',fontsize = 16,weight = 'bold',pad=20);\n",
        "\n",
        "keras.backend.clear_session()"
      ],
      "id": "Tin1HFZWifhe",
      "execution_count": null,
      "outputs": [
        {
          "output_type": "display_data",
          "data": {
            "image/png": "[encoded data removed]",
            "text/plain": [
              "<Figure size 864x432 with 2 Axes>"
            ]
          },
          "metadata": {
            "tags": [],
            "needs_background": "light"
          }
        }
      ]
    },
    {
      "cell_type": "markdown",
      "metadata": {
        "id": "ROqLG5q3CUEs"
      },
      "source": [
        "## MODEL 3(CNN3)"
      ],
      "id": "ROqLG5q3CUEs"
    },
    {
      "cell_type": "code",
      "metadata": {
        "id": "69tiSlanCX4L"
      },
      "source": [
        "model3 = models.Sequential()\n",
        "model3.add(keras.layers.ZeroPadding2D(padding=(2, 2), input_shape = (299,299,1)))\n",
        "model3.add(layers.Conv2D(32, (3, 3), activation='relu'))\n",
        "model3.add(layers.SpatialDropout2D(0.1))\n",
        "model3.add(layers.MaxPooling2D((2, 2)))\n",
        "model3.add(keras.layers.ZeroPadding2D(padding=(2, 2)))\n",
        "model3.add(layers.Conv2D(64, (3, 3), activation='relu'))\n",
        "model3.add(layers.SpatialDropout2D(0.1))\n",
        "model3.add(layers.MaxPooling2D((2, 2)))\n",
        "model3.add(keras.layers.ZeroPadding2D(padding=(2, 2)))\n",
        "model3.add(layers.Conv2D(64, (3, 3), activation='relu'))\n",
        "model3.add(layers.SpatialDropout2D(0.1))\n",
        "model3.add(layers.Conv2D(128, (3, 3), activation='relu'))\n",
        "model3.add(layers.Flatten())\n",
        "model3.add(layers.Dense(128, activation='relu'))\n",
        "model3.add(layers.Dropout(0.1))\n",
        "model3.add(layers.Dense(64, activation='relu'))\n",
        "model3.add(layers.Dropout(0.1))\n",
        "model3.add(layers.Dense(32, activation='relu'))\n",
        "model3.add(layers.Dropout(0.1))\n",
        "model3.add(layers.Dense(4, activation='softmax'))\n"
      ],
      "id": "69tiSlanCX4L",
      "execution_count": 21,
      "outputs": []
    },
    {
      "cell_type": "code",
      "metadata": {
        "id": "zGJYjLIZKMeZ"
      },
      "source": [
        "sgd = SGD(lr=0.01, decay=1e-6, momentum=0.9, nesterov=True)\n",
        "model3.compile(optimizer=sgd,\n",
        "               loss='categorical_crossentropy', \n",
        "               metrics=['accuracy',keras.metrics.Precision(), keras.metrics.Recall()])"
      ],
      "id": "zGJYjLIZKMeZ",
      "execution_count": 22,
      "outputs": []
    },
    {
      "cell_type": "code",
      "metadata": {
        "colab": {
          "base_uri": "https://localhost:8080/"
        },
        "id": "YwB7CL9AKO6k",
        "outputId": "52f89e3a-4152-4043-b414-4d001c012ecb"
      },
      "source": [
        "history3 = model3.fit(train_gen,epochs=50, batch_size=32, verbose=2)"
      ],
      "id": "YwB7CL9AKO6k",
      "execution_count": 23,
      "outputs": [
        {
          "output_type": "stream",
          "text": [
            "Epoch 1/50\n",
            "67/67 - 23s - loss: 1.2173 - accuracy: 0.4743 - precision_2: 0.5040 - recall_2: 0.1482\n",
            "Epoch 2/50\n",
            "67/67 - 21s - loss: 1.1512 - accuracy: 0.4818 - precision_2: 0.5571 - recall_2: 0.2256\n",
            "Epoch 3/50\n",
            "67/67 - 21s - loss: 1.0971 - accuracy: 0.4983 - precision_2: 0.6115 - recall_2: 0.2511\n",
            "Epoch 4/50\n",
            "67/67 - 21s - loss: 1.0658 - accuracy: 0.5139 - precision_2: 0.6315 - recall_2: 0.2685\n",
            "Epoch 5/50\n",
            "67/67 - 22s - loss: 1.0205 - accuracy: 0.5304 - precision_2: 0.6454 - recall_2: 0.3049\n",
            "Epoch 6/50\n",
            "67/67 - 21s - loss: 1.0090 - accuracy: 0.5573 - precision_2: 0.6824 - recall_2: 0.3407\n",
            "Epoch 7/50\n",
            "67/67 - 21s - loss: 0.9956 - accuracy: 0.5531 - precision_2: 0.6630 - recall_2: 0.3657\n",
            "Epoch 8/50\n",
            "67/67 - 21s - loss: 0.9815 - accuracy: 0.5734 - precision_2: 0.6725 - recall_2: 0.3818\n",
            "Epoch 9/50\n",
            "67/67 - 21s - loss: 0.9782 - accuracy: 0.5663 - precision_2: 0.6774 - recall_2: 0.3955\n",
            "Epoch 10/50\n",
            "67/67 - 21s - loss: 0.9689 - accuracy: 0.5833 - precision_2: 0.6864 - recall_2: 0.4049\n",
            "Epoch 11/50\n",
            "67/67 - 21s - loss: 0.9733 - accuracy: 0.5682 - precision_2: 0.6623 - recall_2: 0.3851\n",
            "Epoch 12/50\n",
            "67/67 - 21s - loss: 0.9535 - accuracy: 0.5724 - precision_2: 0.6667 - recall_2: 0.4096\n",
            "Epoch 13/50\n",
            "67/67 - 21s - loss: 0.9640 - accuracy: 0.5691 - precision_2: 0.6726 - recall_2: 0.3723\n",
            "Epoch 14/50\n",
            "67/67 - 21s - loss: 0.9520 - accuracy: 0.5772 - precision_2: 0.6809 - recall_2: 0.4139\n",
            "Epoch 15/50\n",
            "67/67 - 21s - loss: 0.9347 - accuracy: 0.5842 - precision_2: 0.6893 - recall_2: 0.4313\n",
            "Epoch 16/50\n",
            "67/67 - 21s - loss: 0.9319 - accuracy: 0.5885 - precision_2: 0.6846 - recall_2: 0.4323\n",
            "Epoch 17/50\n",
            "67/67 - 21s - loss: 0.9328 - accuracy: 0.5932 - precision_2: 0.6790 - recall_2: 0.4422\n",
            "Epoch 18/50\n",
            "67/67 - 21s - loss: 0.9312 - accuracy: 0.5908 - precision_2: 0.6824 - recall_2: 0.4379\n",
            "Epoch 19/50\n",
            "67/67 - 21s - loss: 0.9365 - accuracy: 0.5927 - precision_2: 0.6855 - recall_2: 0.4403\n",
            "Epoch 20/50\n",
            "67/67 - 21s - loss: 0.9159 - accuracy: 0.6078 - precision_2: 0.6879 - recall_2: 0.4639\n",
            "Epoch 21/50\n",
            "67/67 - 21s - loss: 0.8961 - accuracy: 0.6149 - precision_2: 0.6873 - recall_2: 0.4710\n",
            "Epoch 22/50\n",
            "67/67 - 21s - loss: 0.9055 - accuracy: 0.6144 - precision_2: 0.6983 - recall_2: 0.4445\n",
            "Epoch 23/50\n",
            "67/67 - 21s - loss: 0.9224 - accuracy: 0.5998 - precision_2: 0.6840 - recall_2: 0.4648\n",
            "Epoch 24/50\n",
            "67/67 - 21s - loss: 0.8982 - accuracy: 0.6168 - precision_2: 0.7011 - recall_2: 0.4672\n",
            "Epoch 25/50\n",
            "67/67 - 21s - loss: 0.9100 - accuracy: 0.5984 - precision_2: 0.6863 - recall_2: 0.4667\n",
            "Epoch 26/50\n",
            "67/67 - 21s - loss: 0.8916 - accuracy: 0.6111 - precision_2: 0.6953 - recall_2: 0.4663\n",
            "Epoch 27/50\n",
            "67/67 - 21s - loss: 0.8749 - accuracy: 0.6244 - precision_2: 0.7140 - recall_2: 0.4818\n",
            "Epoch 28/50\n",
            "67/67 - 21s - loss: 0.8695 - accuracy: 0.6116 - precision_2: 0.6875 - recall_2: 0.4889\n",
            "Epoch 29/50\n",
            "67/67 - 21s - loss: 0.8725 - accuracy: 0.6258 - precision_2: 0.6903 - recall_2: 0.4922\n",
            "Epoch 30/50\n",
            "67/67 - 21s - loss: 0.8726 - accuracy: 0.6258 - precision_2: 0.7108 - recall_2: 0.5068\n",
            "Epoch 31/50\n",
            "67/67 - 21s - loss: 0.8488 - accuracy: 0.6333 - precision_2: 0.6984 - recall_2: 0.5125\n",
            "Epoch 32/50\n",
            "67/67 - 21s - loss: 0.8624 - accuracy: 0.6319 - precision_2: 0.7093 - recall_2: 0.4917\n",
            "Epoch 33/50\n",
            "67/67 - 21s - loss: 0.8628 - accuracy: 0.6418 - precision_2: 0.7133 - recall_2: 0.5120\n",
            "Epoch 34/50\n",
            "67/67 - 21s - loss: 0.8550 - accuracy: 0.6343 - precision_2: 0.6993 - recall_2: 0.5125\n",
            "Epoch 35/50\n",
            "67/67 - 21s - loss: 0.8592 - accuracy: 0.6338 - precision_2: 0.7120 - recall_2: 0.5144\n",
            "Epoch 36/50\n",
            "67/67 - 21s - loss: 0.8272 - accuracy: 0.6527 - precision_2: 0.7216 - recall_2: 0.5370\n",
            "Epoch 37/50\n",
            "67/67 - 21s - loss: 0.8552 - accuracy: 0.6319 - precision_2: 0.6898 - recall_2: 0.5068\n",
            "Epoch 38/50\n",
            "67/67 - 21s - loss: 0.8293 - accuracy: 0.6446 - precision_2: 0.7358 - recall_2: 0.5389\n",
            "Epoch 39/50\n",
            "67/67 - 21s - loss: 0.8159 - accuracy: 0.6555 - precision_2: 0.7208 - recall_2: 0.5422\n",
            "Epoch 40/50\n",
            "67/67 - 21s - loss: 0.8040 - accuracy: 0.6593 - precision_2: 0.7268 - recall_2: 0.5498\n",
            "Epoch 41/50\n",
            "67/67 - 22s - loss: 0.8012 - accuracy: 0.6574 - precision_2: 0.7266 - recall_2: 0.5606\n",
            "Epoch 42/50\n",
            "67/67 - 21s - loss: 0.7994 - accuracy: 0.6673 - precision_2: 0.7285 - recall_2: 0.5597\n",
            "Epoch 43/50\n",
            "67/67 - 21s - loss: 0.8033 - accuracy: 0.6522 - precision_2: 0.7269 - recall_2: 0.5503\n",
            "Epoch 44/50\n",
            "67/67 - 21s - loss: 0.8105 - accuracy: 0.6564 - precision_2: 0.7267 - recall_2: 0.5521\n",
            "Epoch 45/50\n",
            "67/67 - 21s - loss: 0.8022 - accuracy: 0.6588 - precision_2: 0.7140 - recall_2: 0.5597\n",
            "Epoch 46/50\n",
            "67/67 - 21s - loss: 0.8006 - accuracy: 0.6621 - precision_2: 0.7302 - recall_2: 0.5658\n",
            "Epoch 47/50\n",
            "67/67 - 21s - loss: 0.7648 - accuracy: 0.6772 - precision_2: 0.7384 - recall_2: 0.5833\n",
            "Epoch 48/50\n",
            "67/67 - 21s - loss: 0.8040 - accuracy: 0.6640 - precision_2: 0.7277 - recall_2: 0.5536\n",
            "Epoch 49/50\n",
            "67/67 - 21s - loss: 0.8068 - accuracy: 0.6597 - precision_2: 0.7207 - recall_2: 0.5602\n",
            "Epoch 50/50\n",
            "67/67 - 21s - loss: 0.8224 - accuracy: 0.6456 - precision_2: 0.7088 - recall_2: 0.5446\n"
          ],
          "name": "stdout"
        }
      ]
    },
    {
      "cell_type": "code",
      "metadata": {
        "colab": {
          "base_uri": "https://localhost:8080/"
        },
        "id": "kU4uFRJ4KYZP",
        "outputId": "0dc61ee8-9b7f-4fee-9fb1-2111c88ef89e"
      },
      "source": [
        "train_results_3 = pd.DataFrame(history3.history)\n",
        "train_results_3.iloc[49]"
      ],
      "id": "kU4uFRJ4KYZP",
      "execution_count": 24,
      "outputs": [
        {
          "output_type": "execute_result",
          "data": {
            "text/plain": [
              "loss           0.822424\n",
              "accuracy       0.645588\n",
              "precision_2    0.708845\n",
              "recall_2       0.544596\n",
              "Name: 49, dtype: float64"
            ]
          },
          "metadata": {
            "tags": []
          },
          "execution_count": 24
        }
      ]
    },
    {
      "cell_type": "code",
      "metadata": {
        "colab": {
          "base_uri": "https://localhost:8080/",
          "height": 297
        },
        "id": "qOa1V5J_Ke5_",
        "outputId": "c703183e-441d-4cef-9ccc-fcdbd33e9920"
      },
      "source": [
        "train_results_3.describe()"
      ],
      "id": "qOa1V5J_Ke5_",
      "execution_count": 25,
      "outputs": [
        {
          "output_type": "execute_result",
          "data": {
            "text/html": [
              "<div>\n",
              "<style scoped>\n",
              "    .dataframe tbody tr th:only-of-type {\n",
              "        vertical-align: middle;\n",
              "    }\n",
              "\n",
              "    .dataframe tbody tr th {\n",
              "        vertical-align: top;\n",
              "    }\n",
              "\n",
              "    .dataframe thead th {\n",
              "        text-align: right;\n",
              "    }\n",
              "</style>\n",
              "<table border=\"1\" class=\"dataframe\">\n",
              "  <thead>\n",
              "    <tr style=\"text-align: right;\">\n",
              "      <th></th>\n",
              "      <th>loss</th>\n",
              "      <th>accuracy</th>\n",
              "      <th>precision_2</th>\n",
              "      <th>recall_2</th>\n",
              "    </tr>\n",
              "  </thead>\n",
              "  <tbody>\n",
              "    <tr>\n",
              "      <th>count</th>\n",
              "      <td>50.000000</td>\n",
              "      <td>50.000000</td>\n",
              "      <td>50.000000</td>\n",
              "      <td>50.000000</td>\n",
              "    </tr>\n",
              "    <tr>\n",
              "      <th>mean</th>\n",
              "      <td>0.905182</td>\n",
              "      <td>0.606786</td>\n",
              "      <td>0.689060</td>\n",
              "      <td>0.457480</td>\n",
              "    </tr>\n",
              "    <tr>\n",
              "      <th>std</th>\n",
              "      <td>0.095098</td>\n",
              "      <td>0.049131</td>\n",
              "      <td>0.042381</td>\n",
              "      <td>0.096771</td>\n",
              "    </tr>\n",
              "    <tr>\n",
              "      <th>min</th>\n",
              "      <td>0.764752</td>\n",
              "      <td>0.474280</td>\n",
              "      <td>0.504013</td>\n",
              "      <td>0.148183</td>\n",
              "    </tr>\n",
              "    <tr>\n",
              "      <th>25%</th>\n",
              "      <td>0.827716</td>\n",
              "      <td>0.578693</td>\n",
              "      <td>0.681264</td>\n",
              "      <td>0.410689</td>\n",
              "    </tr>\n",
              "    <tr>\n",
              "      <th>50%</th>\n",
              "      <td>0.893837</td>\n",
              "      <td>0.614677</td>\n",
              "      <td>0.690030</td>\n",
              "      <td>0.469089</td>\n",
              "    </tr>\n",
              "    <tr>\n",
              "      <th>75%</th>\n",
              "      <td>0.953160</td>\n",
              "      <td>0.645352</td>\n",
              "      <td>0.714017</td>\n",
              "      <td>0.538462</td>\n",
              "    </tr>\n",
              "    <tr>\n",
              "      <th>max</th>\n",
              "      <td>1.217265</td>\n",
              "      <td>0.677206</td>\n",
              "      <td>0.738351</td>\n",
              "      <td>0.583294</td>\n",
              "    </tr>\n",
              "  </tbody>\n",
              "</table>\n",
              "</div>"
            ],
            "text/plain": [
              "            loss   accuracy  precision_2   recall_2\n",
              "count  50.000000  50.000000    50.000000  50.000000\n",
              "mean    0.905182   0.606786     0.689060   0.457480\n",
              "std     0.095098   0.049131     0.042381   0.096771\n",
              "min     0.764752   0.474280     0.504013   0.148183\n",
              "25%     0.827716   0.578693     0.681264   0.410689\n",
              "50%     0.893837   0.614677     0.690030   0.469089\n",
              "75%     0.953160   0.645352     0.714017   0.538462\n",
              "max     1.217265   0.677206     0.738351   0.583294"
            ]
          },
          "metadata": {
            "tags": []
          },
          "execution_count": 25
        }
      ]
    },
    {
      "cell_type": "code",
      "metadata": {
        "colab": {
          "base_uri": "https://localhost:8080/",
          "height": 312
        },
        "id": "-XZqWZOvKk7I",
        "outputId": "870cda3c-33bc-499e-e4c7-3a673b87a799"
      },
      "source": [
        "train_results_3.plot()\n",
        "plt.xlabel('Epochs')\n",
        "plt.ylabel('Value')\n",
        "plt.title('CNN 3 train process over 50 epochs')"
      ],
      "id": "-XZqWZOvKk7I",
      "execution_count": 26,
      "outputs": [
        {
          "output_type": "execute_result",
          "data": {
            "text/plain": [
              "Text(0.5, 1.0, 'CNN 3 train process over 50 epochs')"
            ]
          },
          "metadata": {
            "tags": []
          },
          "execution_count": 26
        },
        {
          "output_type": "display_data",
          "data": {
            "image/png": "[encoded data removed]",
            "text/plain": [
              "<Figure size 432x288 with 1 Axes>"
            ]
          },
          "metadata": {
            "tags": [],
            "needs_background": "light"
          }
        }
      ]
    },
    {
      "cell_type": "code",
      "metadata": {
        "colab": {
          "base_uri": "https://localhost:8080/"
        },
        "id": "WnKnPo2WPRQg",
        "outputId": "ada9ee18-1259-4c96-d395-1b011c3a4433"
      },
      "source": [
        "model_perf3 = model3.evaluate(test_gen)\n",
        "model_perf3"
      ],
      "id": "WnKnPo2WPRQg",
      "execution_count": null,
      "outputs": [
        {
          "output_type": "stream",
          "text": [
            "596/596 [==============================] - 60s 101ms/step - loss: 0.7494 - accuracy: 0.6708 - precision: 0.7252 - recall: 0.5925\n"
          ],
          "name": "stdout"
        },
        {
          "output_type": "execute_result",
          "data": {
            "text/plain": [
              "[0.7493611574172974, 0.670830249786377, 0.7252055406570435, 0.5925264954566956]"
            ]
          },
          "metadata": {
            "tags": []
          },
          "execution_count": 51
        }
      ]
    },
    {
      "cell_type": "code",
      "metadata": {
        "colab": {
          "base_uri": "https://localhost:8080/",
          "height": 425
        },
        "id": "v2S46XujKo0U",
        "outputId": "6687dc09-d03c-4c5a-da67-e70394ba5c67"
      },
      "source": [
        "y_pred3 = model3.predict(test_gen)\n",
        "\n",
        "predictions3 = np.array(list(map(lambda x: np.argmax(x), y_pred3)))\n",
        "y_true=test_gen.classes\n",
        "CMatrix3 = pd.DataFrame(confusion_matrix(y_true, predictions3), columns=classes, index =classes)\n",
        "len(y_true)\n",
        "plt.figure(figsize=(12, 6))\n",
        "ax2 = sns.heatmap(CMatrix3, annot = True, fmt = 'g' ,vmin = 0, vmax = 250,cmap = 'Blues')\n",
        "ax2.set_xlabel('Predicted',fontsize = 14,weight = 'bold')\n",
        "ax2.set_xticklabels(ax.get_xticklabels(),rotation =0);\n",
        "\n",
        "ax2.set_ylabel('Actual',fontsize = 14,weight = 'bold') \n",
        "ax2.set_yticklabels(ax.get_yticklabels(),rotation =0);\n",
        "ax2.set_title('Confusion Matrix - Test Set(CNN3)',fontsize = 16,weight = 'bold',pad=20);\n",
        "\n",
        "keras.backend.clear_session()"
      ],
      "id": "v2S46XujKo0U",
      "execution_count": null,
      "outputs": [
        {
          "output_type": "display_data",
          "data": {
            "image/png": "[encoded data removed]",
            "text/plain": [
              "<Figure size 864x432 with 2 Axes>"
            ]
          },
          "metadata": {
            "tags": [],
            "needs_background": "light"
          }
        }
      ]
    }
  ]
}